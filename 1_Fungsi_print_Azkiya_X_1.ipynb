{
  "nbformat": 4,
  "nbformat_minor": 0,
  "metadata": {
    "colab": {
      "provenance": [],
      "include_colab_link": true
    },
    "kernelspec": {
      "name": "python3",
      "display_name": "Python 3"
    },
    "language_info": {
      "name": "python"
    }
  },
  "cells": [
    {
      "cell_type": "markdown",
      "metadata": {
        "id": "view-in-github",
        "colab_type": "text"
      },
      "source": [
        "<a href=\"https://colab.research.google.com/github/nurulazkiyah/KKA-X-Semester-1-Nurul-A/blob/main/1_Fungsi_print_Azkiya_X_1.ipynb\" target=\"_parent\"><img src=\"https://colab.research.google.com/assets/colab-badge.svg\" alt=\"Open In Colab\"/></a>"
      ]
    },
    {
      "cell_type": "markdown",
      "source": [
        "nama : nurul azkiyah\n",
        "\n",
        "kelas : X.1\n",
        "\n",
        "absen : 26"
      ],
      "metadata": {
        "id": "uawkf0nf4U-e"
      }
    },
    {
      "cell_type": "markdown",
      "source": [
        "#menampilkan teks bebas"
      ],
      "metadata": {
        "id": "n9UtJx5453nb"
      }
    },
    {
      "cell_type": "code",
      "source": [
        "print(\"Nurul Azkiyah\")"
      ],
      "metadata": {
        "colab": {
          "base_uri": "https://localhost:8080/"
        },
        "id": "CA0Akf9D6LZV",
        "outputId": "8058d4b5-d957-4e43-a680-93c9ad4555c3"
      },
      "execution_count": null,
      "outputs": [
        {
          "output_type": "stream",
          "name": "stdout",
          "text": [
            "Nurul Azkiyah\n"
          ]
        }
      ]
    },
    {
      "cell_type": "markdown",
      "source": [
        "#menampilkan nilai variabel"
      ],
      "metadata": {
        "id": "mxuBv1Pv6Ylv"
      }
    },
    {
      "cell_type": "code",
      "source": [
        "nama_idola = \"hanan attaki\"\n",
        "print (nama_idola)"
      ],
      "metadata": {
        "id": "Xf1Ygk897iW0",
        "colab": {
          "base_uri": "https://localhost:8080/"
        },
        "outputId": "7ad542c6-32f1-4d5a-b9dd-b3456496420c"
      },
      "execution_count": null,
      "outputs": [
        {
          "output_type": "stream",
          "name": "stdout",
          "text": [
            "hanan attaki\n"
          ]
        }
      ]
    },
    {
      "cell_type": "code",
      "source": [
        "usia = 15\n",
        "print (usia)"
      ],
      "metadata": {
        "colab": {
          "base_uri": "https://localhost:8080/"
        },
        "id": "0upJ42tP8nen",
        "outputId": "bfaac8bf-079e-427c-cab5-3a065905e067"
      },
      "execution_count": null,
      "outputs": [
        {
          "output_type": "stream",
          "name": "stdout",
          "text": [
            "15\n"
          ]
        }
      ]
    },
    {
      "cell_type": "markdown",
      "source": [
        "latihan soal:\n",
        "\n",
        "1.Buat variabel nama saudara & tampilkan\n",
        "\n",
        "2.Buat variabel jumlah saudara & tampilkan"
      ],
      "metadata": {
        "id": "YzS-aGqE80fe"
      }
    },
    {
      "cell_type": "code",
      "source": [
        "nama_saudara = \"putra\"\n",
        "print (nama_saudara)"
      ],
      "metadata": {
        "colab": {
          "base_uri": "https://localhost:8080/"
        },
        "id": "03EzbjZN9UGP",
        "outputId": "bd24c6a5-905b-4103-a6b4-ede4042b8b10"
      },
      "execution_count": null,
      "outputs": [
        {
          "output_type": "stream",
          "name": "stdout",
          "text": [
            "putra\n"
          ]
        }
      ]
    },
    {
      "cell_type": "code",
      "source": [
        "jumlah_saudara = 1\n",
        "print (jumlah_saudara)"
      ],
      "metadata": {
        "colab": {
          "base_uri": "https://localhost:8080/"
        },
        "id": "h3jr-Hwo9u1j",
        "outputId": "13571415-2128-47aa-e62a-9f538882af56"
      },
      "execution_count": null,
      "outputs": [
        {
          "output_type": "stream",
          "name": "stdout",
          "text": [
            "1\n"
          ]
        }
      ]
    },
    {
      "cell_type": "markdown",
      "source": [
        "#Menampilkan nilai variabel dan string"
      ],
      "metadata": {
        "id": "9sDT6ZjCkzwE"
      }
    },
    {
      "cell_type": "code",
      "source": [
        "print(\"Nama idola saya adalah\", nama_idola,\". Usianya adalah\", usia, \"tahun.\")"
      ],
      "metadata": {
        "colab": {
          "base_uri": "https://localhost:8080/"
        },
        "id": "WIeSSBtvlMc8",
        "outputId": "dc5ea0e0-d629-4fc8-a6fb-80c07db80177"
      },
      "execution_count": null,
      "outputs": [
        {
          "output_type": "stream",
          "name": "stdout",
          "text": [
            "Nama idola saya adalah hanan attaki . Usianya adalah 15 tahun.\n"
          ]
        }
      ]
    },
    {
      "cell_type": "code",
      "source": [
        "print(\"Nama idola saya adalah \"+nama_idola+\". Usianya adalah \"+str(usia)+\"tahun.\")"
      ],
      "metadata": {
        "colab": {
          "base_uri": "https://localhost:8080/"
        },
        "id": "aIJkm7eilkNh",
        "outputId": "b000f97f-bb4c-4d86-fbb5-cb57876b298e"
      },
      "execution_count": null,
      "outputs": [
        {
          "output_type": "stream",
          "name": "stdout",
          "text": [
            "Nama idola saya adalah hanan attaki. Usianya adalah 15tahun.\n"
          ]
        }
      ]
    },
    {
      "cell_type": "code",
      "source": [
        "print(f\"Nama idola saya adalah (nama_idola). Usianya adalah (usia) tahun.\")"
      ],
      "metadata": {
        "colab": {
          "base_uri": "https://localhost:8080/"
        },
        "id": "R7s0tQoqlpBL",
        "outputId": "4356c93b-401b-4e58-ee47-1f90c380f0a1"
      },
      "execution_count": null,
      "outputs": [
        {
          "output_type": "stream",
          "name": "stdout",
          "text": [
            "Nama idola saya adalah (nama_idola). Usianya adalah (usia) tahun.\n"
          ]
        }
      ]
    },
    {
      "cell_type": "markdown",
      "source": [
        "#Escape string"
      ],
      "metadata": {
        "id": "p4mxO-RgmPpZ"
      }
    },
    {
      "cell_type": "code",
      "source": [
        "print(\"Halo nama saya habib jafar\")"
      ],
      "metadata": {
        "colab": {
          "base_uri": "https://localhost:8080/"
        },
        "id": "QnwYmUvPiSHh",
        "outputId": "38654ef7-b4bc-4e62-e0e9-0891a4998cd4"
      },
      "execution_count": null,
      "outputs": [
        {
          "output_type": "stream",
          "name": "stdout",
          "text": [
            "Halo nama saya habib jafar\n"
          ]
        }
      ]
    },
    {
      "cell_type": "code",
      "source": [
        "print(\"Bu Shinta berkata, \\\"tolong fokus ke TV sejenak.\\\"\")"
      ],
      "metadata": {
        "colab": {
          "base_uri": "https://localhost:8080/"
        },
        "id": "iR8QNTiEiio7",
        "outputId": "d183fb72-6f2d-43e9-e769-cc889e406e37"
      },
      "execution_count": null,
      "outputs": [
        {
          "output_type": "stream",
          "name": "stdout",
          "text": [
            "Bu Shinta berkata, \"tolong fokus ke TV sejenak.\"\n"
          ]
        }
      ]
    },
    {
      "cell_type": "code",
      "source": [
        "print('Bu Shinta berkata, \"tolong fokus ke TV sejenak.\"')"
      ],
      "metadata": {
        "colab": {
          "base_uri": "https://localhost:8080/"
        },
        "id": "a3JWs7ysizhF",
        "outputId": "3d0ecb45-6f94-46a3-cf86-d0b485282043"
      },
      "execution_count": null,
      "outputs": [
        {
          "output_type": "stream",
          "name": "stdout",
          "text": [
            "Bu Shinta berkata, \"tolong fokus ke TV sejenak.\"\n"
          ]
        }
      ]
    },
    {
      "cell_type": "code",
      "source": [
        "print(\"silahkan simpan file tugas KKA di folder local disk D:\\\\MAN Demak\\\\KKA\\\\Tugas\")"
      ],
      "metadata": {
        "colab": {
          "base_uri": "https://localhost:8080/"
        },
        "id": "CeDtF0q3jU15",
        "outputId": "9399f640-bde1-4d85-8fdf-f99afbe22243"
      },
      "execution_count": null,
      "outputs": [
        {
          "output_type": "stream",
          "name": "stdout",
          "text": [
            "silahkan simpan file tugas KKA di folder local disk D:\\MAN Demak\\KKA\\Tugas\n"
          ]
        }
      ]
    },
    {
      "cell_type": "code",
      "source": [
        "print(\"Senin\\nJielo\\nAzam\")"
      ],
      "metadata": {
        "colab": {
          "base_uri": "https://localhost:8080/"
        },
        "id": "zjfSYhX6mkeI",
        "outputId": "780fe6b4-dde9-44f8-c517-1f459f1e9c03"
      },
      "execution_count": null,
      "outputs": [
        {
          "output_type": "stream",
          "name": "stdout",
          "text": [
            "Senin\n",
            "Jielo\n",
            "Azam\n"
          ]
        }
      ]
    },
    {
      "cell_type": "markdown",
      "source": [
        "#Parameter Fungsi"
      ],
      "metadata": {
        "id": "GQRNL9H4pDeo"
      }
    },
    {
      "cell_type": "code",
      "source": [
        "nama_siswa_3 = \"Kinan\"\n",
        "nama_siswa_4 = \"Azka\"\n",
        "nama_siswa_5 = \"Naufal\"\n",
        "nama_siswa_6 = \"Ridho\"\n",
        "\n",
        "print(nama_siswa_6, nama_siswa_3, nama_siswa_5, nama_siswa_4, nama_siswa_4, sep=\"/\")"
      ],
      "metadata": {
        "colab": {
          "base_uri": "https://localhost:8080/"
        },
        "id": "X1SvNmu2rYYL",
        "outputId": "dd37ceed-6234-4872-b6bc-f00649fad130"
      },
      "execution_count": null,
      "outputs": [
        {
          "output_type": "stream",
          "name": "stdout",
          "text": [
            "Ridho/Kinan/Naufal/Azka/Azka\n"
          ]
        }
      ]
    },
    {
      "cell_type": "code",
      "source": [
        "print(nama_siswa_4, end=\"*\")\n",
        "print(nama_siswa_4, end=\"*\")\n",
        "print(nama_siswa_5, end=\"*\")\n",
        "print(nama_siswa_3, end=\"*\")\n",
        "print(nama_siswa_6, end=\"*\")"
      ],
      "metadata": {
        "colab": {
          "base_uri": "https://localhost:8080/"
        },
        "id": "Fnsl3JnUvsZP",
        "outputId": "17bfa316-f7a8-4d36-9d9b-9cfe518b888e"
      },
      "execution_count": null,
      "outputs": [
        {
          "output_type": "stream",
          "name": "stdout",
          "text": [
            "Azka*Azka*Naufal*Kinan*Ridho*"
          ]
        }
      ]
    },
    {
      "cell_type": "code",
      "source": [
        "print(\"Nama: Nurul Azkiyah\")\n",
        "\n",
        "print(\"Kelas: X.1\")\n",
        "\n",
        "print(\"No. Absen: 25\")"
      ],
      "metadata": {
        "colab": {
          "base_uri": "https://localhost:8080/"
        },
        "id": "h0SCbEQZl3Sr",
        "outputId": "253e7500-ee3b-4664-e430-6d5ea722cb21"
      },
      "execution_count": null,
      "outputs": [
        {
          "output_type": "stream",
          "name": "stdout",
          "text": [
            "Nama: Nurul Azkiyah\n",
            "Kelas: X.1\n",
            "No. Absen: 25\n"
          ]
        }
      ]
    },
    {
      "cell_type": "code",
      "source": [
        "print(\"Nama: Nurul Azkiyah\\nKelas: X.1\\nNo. Absen: 25\")"
      ],
      "metadata": {
        "colab": {
          "base_uri": "https://localhost:8080/"
        },
        "id": "c7lhwPG7l9yq",
        "outputId": "60b3a97c-b7c1-4954-aaa8-5c714bd66140"
      },
      "execution_count": null,
      "outputs": [
        {
          "output_type": "stream",
          "name": "stdout",
          "text": [
            "Nama: Nurul Azkiyah\n",
            "Kelas: X.1\n",
            "No. Absen: 25\n"
          ]
        }
      ]
    },
    {
      "cell_type": "code",
      "source": [
        "print(\"\"\"Nama\\t\\t: Nurul Azkiyah\n",
        "\n",
        "Kelas\\t\\t: Χ.1\n",
        "\n",
        "No. Absen\\t: 25\"\"\")"
      ],
      "metadata": {
        "colab": {
          "base_uri": "https://localhost:8080/"
        },
        "id": "xKhAfvGOmGcE",
        "outputId": "a3e7e7e6-e97a-403f-8ee5-061fec1eb3d8"
      },
      "execution_count": null,
      "outputs": [
        {
          "output_type": "stream",
          "name": "stdout",
          "text": [
            "Nama\t\t: Nurul Azkiyah\n",
            "\n",
            "Kelas\t\t: Χ.1\n",
            "\n",
            "No. Absen\t: 25\n"
          ]
        }
      ]
    },
    {
      "cell_type": "code",
      "source": [
        "print('Halo nama saya habib jafar')"
      ],
      "metadata": {
        "colab": {
          "base_uri": "https://localhost:8080/"
        },
        "id": "uw-B5pTiiHkh",
        "outputId": "a85bee28-62af-4ec4-c450-361348a42091"
      },
      "execution_count": null,
      "outputs": [
        {
          "output_type": "stream",
          "name": "stdout",
          "text": [
            "Halo nama saya habib jafar\n"
          ]
        }
      ]
    }
  ]
}